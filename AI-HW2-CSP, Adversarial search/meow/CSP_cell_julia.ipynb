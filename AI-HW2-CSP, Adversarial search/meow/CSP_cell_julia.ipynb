{
  "cells": [
    {
      "cell_type": "markdown",
      "metadata": {
        "id": "k1NqOXzgIlk_"
      },
      "source": [
        "<font face=\"XB Zar\" size=5><div dir=rtl align=center>\n",
        "<font face=\"IranNastaliq\" size=5>\n",
        "به نام خدا\n",
        "</font>\n",
        "<br>\n",
        "<font size=3>\n",
        "دانشگاه صنعتی شریف - دانشکده مهندسی کامپیوتر\n",
        "</font>\n",
        "<br>\n",
        "<font color=blue size=5>\n",
        "تمرین امتیازی بخش بهینه سازی\n",
        "</font><br>\n",
        "<font color=blue size=5>\n",
        "نوت بوک زبان جولیا\n",
        "</font>\n",
        "# <img src=\"https://github.com/JuliaLang/julia-logo-graphics/raw/master/images/julia-logo-color.png\" height=\"100\" />\n",
        "<br>\n",
        "محمد معین صمدی آزاد \n",
        "<br>\n",
        "400105093"
      ]
    },
    {
      "cell_type": "markdown",
      "metadata": {
        "id": "tQ1r1bbb0yBv"
      },
      "source": [
        "\n",
        "\n",
        "<font face=\"XB Zar\" size=4><div dir=rtl id=\"1\">\n",
        "<font color=\"red\" size=5>**نصب جولیا و پکیج های لازم**</font>\n"
      ]
    },
    {
      "cell_type": "code",
      "execution_count": 127,
      "metadata": {
        "colab": {
          "base_uri": "https://localhost:8080/",
          "height": 87
        },
        "id": "GIeFXS0F0zww",
        "outputId": "1b45c3d9-3093-434a-d010-6d79c61f9775"
      },
      "outputs": [
        {
          "data": {
            "text/latex": [
              "Unrecognized magic \\texttt{\\%\\%shell}.\n",
              "\n",
              "Julia does not use the IPython \\texttt{\\%magic} syntax.   To interact with the IJulia kernel, use \\texttt{IJulia.somefunction(...)}, for example.  Julia macros, string macros, and functions can be used to accomplish most of the other functionalities of IPython magics.\n",
              "\n"
            ],
            "text/markdown": [
              "Unrecognized magic `%%shell`.\n",
              "\n",
              "Julia does not use the IPython `%magic` syntax.   To interact with the IJulia kernel, use `IJulia.somefunction(...)`, for example.  Julia macros, string macros, and functions can be used to accomplish most of the other functionalities of IPython magics.\n"
            ],
            "text/plain": [
              "  Unrecognized magic \u001b[36m%%shell\u001b[39m.\n",
              "\n",
              "  Julia does not use the IPython \u001b[36m%magic\u001b[39m syntax. To interact with the IJulia kernel, use\n",
              "  \u001b[36mIJulia.somefunction(...)\u001b[39m, for example. Julia macros, string macros, and functions can be used to\n",
              "  accomplish most of the other functionalities of IPython magics."
            ]
          },
          "metadata": {},
          "output_type": "display_data"
        }
      ],
      "source": [
        "# @title\n",
        "%%shell\n",
        "set -e\n",
        "\n",
        "#---------------------------------------------------#\n",
        "JULIA_VERSION=\"1.8.2\" # any version ≥ 0.7.0\n",
        "JULIA_PACKAGES=\"IJulia BenchmarkTools\"\n",
        "JULIA_PACKAGES_IF_GPU=\"CUDA\" # or CuArrays for older Julia versions\n",
        "JULIA_NUM_THREADS=2\n",
        "#---------------------------------------------------#\n",
        "\n",
        "if [ -z `which julia` ]; then\n",
        "  # Install Julia\n",
        "  JULIA_VER=`cut -d '.' -f -2 <<< \"$JULIA_VERSION\"`\n",
        "  echo \"Installing Julia $JULIA_VERSION on the current Colab Runtime...\"\n",
        "  BASE_URL=\"https://julialang-s3.julialang.org/bin/linux/x64\"\n",
        "  URL=\"$BASE_URL/$JULIA_VER/julia-$JULIA_VERSION-linux-x86_64.tar.gz\"\n",
        "  wget -nv $URL -O /tmp/julia.tar.gz # -nv means \"not verbose\"\n",
        "  tar -x -f /tmp/julia.tar.gz -C /usr/local --strip-components 1\n",
        "  rm /tmp/julia.tar.gz\n",
        "\n",
        "  # Install Packages\n",
        "  nvidia-smi -L &> /dev/null && export GPU=1 || export GPU=0\n",
        "  if [ $GPU -eq 1 ]; then\n",
        "    JULIA_PACKAGES=\"$JULIA_PACKAGES $JULIA_PACKAGES_IF_GPU\"\n",
        "  fi\n",
        "  for PKG in `echo $JULIA_PACKAGES`; do\n",
        "    echo \"Installing Julia package $PKG...\"\n",
        "    julia -e 'using Pkg; pkg\"add '$PKG'; precompile;\"' &> /dev/null\n",
        "  done\n",
        "\n",
        "  # Install kernel and rename it to \"julia\"\n",
        "  echo \"Installing IJulia kernel...\"\n",
        "  julia -e 'using IJulia; IJulia.installkernel(\"julia\", env=Dict(\n",
        "      \"JULIA_NUM_THREADS\"=>\"'\"$JULIA_NUM_THREADS\"'\"))'\n",
        "  KERNEL_DIR=`julia -e \"using IJulia; print(IJulia.kerneldir())\"`\n",
        "  KERNEL_NAME=`ls -d \"$KERNEL_DIR\"/julia*`\n",
        "  mv -f $KERNEL_NAME \"$KERNEL_DIR\"/julia\n",
        "\n",
        "  echo ''\n",
        "  echo \"Successfully installed `julia -v`!\"\n",
        "  echo \"Please reload this page (press Ctrl+R, ⌘+R, or the F5 key) then\"\n",
        "  echo \"jump to the 'Checking the Installation' section.\"\n",
        "fi"
      ]
    },
    {
      "cell_type": "markdown",
      "metadata": {
        "id": "zUCjFdT7zled"
      },
      "source": [
        "## reload the page !"
      ]
    },
    {
      "cell_type": "code",
      "execution_count": 128,
      "metadata": {
        "colab": {
          "base_uri": "https://localhost:8080/"
        },
        "id": "EEzvvzCl1i0F",
        "outputId": "d96c536d-5f0c-4f43-df25-96aa3e4d97fa"
      },
      "outputs": [
        {
          "name": "stdout",
          "output_type": "stream",
          "text": [
            "Julia Version 1.8.2\n",
            "Commit 36034abf260 (2022-09-29 15:21 UTC)\n",
            "Platform Info:\n",
            "  OS: Linux (x86_64-linux-gnu)\n",
            "  CPU: 2 × Intel(R) Xeon(R) CPU @ 2.20GHz\n",
            "  WORD_SIZE: 64\n",
            "  LIBM: libopenlibm\n",
            "  LLVM: libLLVM-13.0.1 (ORCJIT, broadwell)\n",
            "  Threads: 2 on 2 virtual cores\n",
            "Environment:\n",
            "  LD_LIBRARY_PATH = /usr/local/nvidia/lib:/usr/local/nvidia/lib64\n",
            "  JULIA_NUM_THREADS = 2\n"
          ]
        }
      ],
      "source": [
        "versioninfo()"
      ]
    },
    {
      "cell_type": "code",
      "execution_count": 129,
      "metadata": {
        "colab": {
          "base_uri": "https://localhost:8080/"
        },
        "collapsed": true,
        "id": "BR79zLt4eJP2",
        "outputId": "63bbdcfe-b20f-40c4-9fa6-7526f70f11d3"
      },
      "outputs": [
        {
          "name": "stderr",
          "output_type": "stream",
          "text": [
            "\u001b[32m\u001b[1m   Resolving\u001b[22m\u001b[39m package versions...\n",
            "\u001b[32m\u001b[1m  No Changes\u001b[22m\u001b[39m to `~/.julia/environments/v1.8/Project.toml`\n",
            "\u001b[32m\u001b[1m  No Changes\u001b[22m\u001b[39m to `~/.julia/environments/v1.8/Manifest.toml`\n"
          ]
        }
      ],
      "source": [
        "] add COBREXA"
      ]
    },
    {
      "cell_type": "code",
      "execution_count": 130,
      "metadata": {
        "colab": {
          "base_uri": "https://localhost:8080/"
        },
        "collapsed": true,
        "id": "O3A-E7kq0Gcw",
        "outputId": "f7911a81-1b1d-4d70-ee4b-ce84ffdcd5a3"
      },
      "outputs": [
        {
          "name": "stderr",
          "output_type": "stream",
          "text": [
            "\u001b[32m\u001b[1m   Resolving\u001b[22m\u001b[39m package versions...\n",
            "\u001b[32m\u001b[1m  No Changes\u001b[22m\u001b[39m to `~/.julia/environments/v1.8/Project.toml`\n",
            "\u001b[32m\u001b[1m  No Changes\u001b[22m\u001b[39m to `~/.julia/environments/v1.8/Manifest.toml`\n"
          ]
        }
      ],
      "source": [
        "] add JuMP"
      ]
    },
    {
      "cell_type": "code",
      "execution_count": 131,
      "metadata": {
        "colab": {
          "base_uri": "https://localhost:8080/"
        },
        "collapsed": true,
        "id": "ghYmRW7B0P00",
        "outputId": "13cebcae-c4f5-47b1-bf3a-1f30d883d97f"
      },
      "outputs": [
        {
          "name": "stderr",
          "output_type": "stream",
          "text": [
            "\u001b[32m\u001b[1m   Resolving\u001b[22m\u001b[39m package versions...\n",
            "\u001b[32m\u001b[1m  No Changes\u001b[22m\u001b[39m to `~/.julia/environments/v1.8/Project.toml`\n",
            "\u001b[32m\u001b[1m  No Changes\u001b[22m\u001b[39m to `~/.julia/environments/v1.8/Manifest.toml`\n"
          ]
        }
      ],
      "source": [
        "] add GLPK"
      ]
    },
    {
      "cell_type": "markdown",
      "metadata": {
        "id": "6VWCrBE9u94Y"
      },
      "source": [
        "<font face=\"XB Zar\" size=4><div dir=rtl id=\"1\">\n",
        "<font color=\"red\" size=5>**مقدمه**</font>"
      ]
    },
    {
      "cell_type": "markdown",
      "metadata": {
        "id": "0KUxdWNKvavt"
      },
      "source": [
        "<font face=\"XB Zar\" size=4><div dir=rtl>\n",
        "در این تمرین قصد داریم با یکی از کاربردهای CSP آشنا شویم. فرض کنید شما میخواهید دارویی را تولید کنید که سنتز آن از صفر یا بسیار پرهزینه است یا به حدی پیچیده است که در عمل ممکن نیست اما یک نوع باکتری در طبیعت وجود دارد که توانایی سنتز دارو را به طور طبیعی دارد. شما میتوانید با استخراج واکنش های انجام شده در باکتری و مهندسی آن ها موجب شوید باکتری داروی مطلوب شما را  به میزان زیادی تولید کند. برای مثال انسولین که به طور روزانه توسط بیماران مبتلا به دیابت مصرف میشود با استفاده از باکتری های مهندسی شده تولید میشود.\n",
        " <font face=\"XB Zar\" size=4><div dir=rtl>\n",
        " در مراحل مختلفی از این روند مانند پیش پردازش داده های واکنش ها، میتوان از CSP بهره برد که در این تمرین قصد داریم با آن آشنا شویم."
      ]
    },
    {
      "cell_type": "markdown",
      "metadata": {
        "id": "SZ7a6CPLv6Iu"
      },
      "source": [
        "<font face=\"XB Zar\" size=4><div dir=rtl id=\"1\">\n",
        "<font color=\"red\" size=5>**معرفی المان های مساله**</font>"
      ]
    },
    {
      "cell_type": "markdown",
      "metadata": {
        "id": "iAA67KaYwF6X"
      },
      "source": [
        "<font face=\"XB Zar\" size=4><div dir=rtl>\n",
        "همانطور که گفته شده ما یک باکتری داریم که واکنشهای درون باکتری در آزمایشگاه استخراج شده و داده های آن در اختیار ما قرار گرفته است. این داده ها شامل موارد زیر هستند:\n",
        "<br>\n",
        "<br>\n",
        "n: تعداد واکنش ها\n",
        "<br>\n",
        "m: مجموع تعداد ماده های متمایز در تمام واکنش ها\n",
        "<br>\n",
        "S: یک ماتریس m*n که سطر i,j از آن بیان میدارد در واکنش j ام چند واحد از ماده ی i مصرف یا تولید میشود. مقدار منفی بیانگر مصرف و مقدار مثبت بیانگر تولید است. (درواقع این ماتریس ضرایب استکیومتری واکنش هاست، فراورده ها مثبت و واکنش دهنده ها منفی)\n",
        "<br>\n",
        "ub: یک ماتریس به طول n که upper bound یا کران بالای rate واکنش ها را مشخص میکند\n",
        "<br>\n",
        "lb: یک ماتریس به طول n که lower bound یا کران پایین rate واکنش ها را مشخص میکند\n",
        "<br>\n",
        "Reactions: ماتریس به طول n، نام واکنش ها\n",
        "<br>\n",
        "Metabolites: ماتریس به طول m، نام ماده ها (متابولیت ها)\n"
      ]
    },
    {
      "cell_type": "code",
      "execution_count": 132,
      "metadata": {
        "id": "8OZsXO9SdSut"
      },
      "outputs": [],
      "source": [
        "using COBREXA\n",
        "using JuMP\n",
        "using GLPK"
      ]
    },
    {
      "cell_type": "code",
      "execution_count": 133,
      "metadata": {
        "id": "cauYky-_gMdp"
      },
      "outputs": [],
      "source": [
        "struct models\n",
        "           S\n",
        "           Metabolites\n",
        "           Reactions\n",
        "           Genes\n",
        "           m\n",
        "           n\n",
        "           lb\n",
        "           ub\n",
        "       end"
      ]
    },
    {
      "cell_type": "markdown",
      "metadata": {
        "id": "sFD7nfjIwmAm"
      },
      "source": [
        "<font face=\"XB Zar\" size=4><div dir=rtl>\n",
        "<font color=\"blue\">\n",
        "**سوال:**\n",
        "<br>\n",
        "<font color=\"black\">\n",
        "چگونه میتوان از روی مقادیر lb و ub تشخیص داد واکنش ها برگشت پذیر هستند یا نه؟\n",
        "\n",
        "<font color=\"pink\">\n",
        "پاسخ\n",
        "<br>\n",
        "در صورتی که مینیمم منفی باشد، یک واکنش برگشت پذیر است"
      ]
    },
    {
      "cell_type": "markdown",
      "metadata": {
        "id": "YMUDoYG-xJAf"
      },
      "source": [
        "<font face=\"XB Zar\" size=4><div dir=rtl id=\"1\">\n",
        "<font color=\"red\" size=5>**مثال**</font>"
      ]
    },
    {
      "cell_type": "markdown",
      "metadata": {
        "id": "PRdGtInIxJFe"
      },
      "source": [
        "<font face=\"XB Zar\" size=4><div dir=rtl>\n",
        "ساده ترین حالت CSP قابل حل با این داده ها این هست که با توجه\n",
        "به محدودیت های دنیای واقعی، یک حالت از rate های ممکن برای واکنش را به دست آوریم:\n",
        "ماتریس V را تعریف میکنیم:\n",
        "<br>\n",
        "  یک ماتریس به طول n است که درایه ی iام نظیر rate واکنش iام است.\n",
        "  <div dir=ltr>\n",
        "<br>\n",
        "Find $V$\n",
        "<br>\n",
        "Subject to :\n",
        "<br>\n",
        "$Lb[j]<v[j]<ub[j]$\n",
        "<br>\n",
        "$SV=0$\n"
      ]
    },
    {
      "cell_type": "markdown",
      "metadata": {
        "id": "354U8hy9xJLe"
      },
      "source": [
        "<font face=\"XB Zar\" size=4><div dir=rtl>\n",
        "<font color=\"blue\">\n",
        "**سوال:**\n",
        "<br>\n",
        "<font color=\"black\">\n",
        "شرط SV=0 بیانگر چیست؟\n",
        "\n",
        "<font color=\"pink\">\n",
        "پاسخ\n",
        "<br>\n",
        "در این حالت تغیر همه مواد صفر و در نتیجه در وضعیت استیبل هستیم."
      ]
    },
    {
      "cell_type": "markdown",
      "metadata": {
        "id": "ZM12RRvDxJNr"
      },
      "source": [
        "<font face=\"XB Zar\" size=4><div dir=rtl id=\"1\">\n",
        "<font color=\"red\" size=5>**پیش پردازش داده ها**</font>\n",
        "<br>\n",
        "<font color=\"red\">\n",
        "یافتن و حذف واکنش های بلاک شده"
      ]
    },
    {
      "cell_type": "markdown",
      "metadata": {
        "id": "SRhIL44KxJP6"
      },
      "source": [
        "<font face=\"XB Zar\" size=4><div dir=rtl>\n",
        "همانطور که میدانیم داده های دریافت شده از آزمایشگاه همیشه داده های تمیزی نیست و نیازبه پیش پردازش دارد. یک نمونه از مشکلات موجود در این داده ها وجود واکنش های \"بلاک شده\" هستند. ممکن است آزمایشگاه واکنش هایی را گزارش کرده باشد که تحت هیچ شرایطی امکان انجام آن وجود نداشته باشد و در هر حالت ممکنی ازمقداردهی rate ها، rate این واکنش همیشه صفر باشد. یافتن و حذف این واکنش ها موجب میشود فضای حالت ما کوچکتر شود و حل مسائل بعدی ساده تر شود."
      ]
    },
    {
      "cell_type": "markdown",
      "metadata": {
        "id": "v7lFYA1yxJSR"
      },
      "source": [
        "<font face=\"XB Zar\" size=4><div dir=rtl id=\"1\">\n",
        "<font color=\"red\">\n",
        "تعریف دقیق واکنش های بلاک شده:\n",
        "<br>\n",
        "<font color=\"black\">\n",
        "واکنشی که در هیچ حالتی از فضای حالت تمام rateهای ممکن نتواند rate غیرصفر داشته باشد، در هیچ شرایطی اجرا نمیشود و بلاک شده است. توجه کنید برای واکنش های دوطرفه این شرط باید از هر دوسمت (رفت و برگشت) برقرار باشد تا واکنش بلاک شده تلقی شود.\n"
      ]
    },
    {
      "cell_type": "markdown",
      "metadata": {
        "id": "gH94g63bxJU_"
      },
      "source": [
        "<font face=\"XB Zar\" size=4><div dir=rtl id=\"1\">\n",
        "<font color=\"red\" size=5>**حل مساله ی یافتن واکنش های بلاک شده:**</font>\n",
        "<br>\n",
        "<font color=\"black\">\n",
        "در ادامه با استفاده از CSP قصد داریم واکنش های بلاک شده را پیدا کنیم. توضیحی در مورد هرکدام از توابع مطرح شده و ورودی و خروجی آنها در ادامه آمده که باید این توابع را تکمیل کنید. میتوانید ورودی و خروجی توابع را با خواست خود تغییر دهید.\n"
      ]
    },
    {
      "cell_type": "markdown",
      "metadata": {
        "id": "PqAvOeg9-Z3I"
      },
      "source": [
        "<font face=\"XB Zar\" size=4><div dir=rtl id=\"1\">\n",
        "<font color=\"blue\">\n",
        "تابع loadmyModel\n",
        "<br>\n",
        "<font color=\"black\">\n",
        "این تابع مدل واکنش را دانلود میکند و در فرمت یک استراکت برمیگرداند، نیازی به تغییر دادن این تابع نیست."
      ]
    },
    {
      "cell_type": "code",
      "execution_count": 134,
      "metadata": {
        "colab": {
          "base_uri": "https://localhost:8080/"
        },
        "id": "1H0tCueEf9Cr",
        "outputId": "cf140dd6-4fd2-4b5c-8939-06bed2443faa"
      },
      "outputs": [
        {
          "data": {
            "text/plain": [
              "loadmyModel (generic function with 1 method)"
            ]
          },
          "execution_count": 134,
          "metadata": {},
          "output_type": "execute_result"
        }
      ],
      "source": [
        "function loadmyModel(name)\n",
        "  !isfile(name) &&\n",
        "    download(string(\"http://bigg.ucsd.edu/static/models/\",name), name);\n",
        "  model = load_model(StandardModel, name)\n",
        "  m=n_metabolites(model)\n",
        "  n=n_reactions(model)\n",
        "  myModel=models(stoichiometry(model),metabolites(model),reactions(model),genes(model),m,n,bounds(model)[1],bounds(model)[2])\n",
        "  return myModel\n",
        "end"
      ]
    },
    {
      "cell_type": "markdown",
      "metadata": {
        "id": "vgiSjfD--rdJ"
      },
      "source": [
        "<font face=\"XB Zar\" size=4><div dir=rtl id=\"1\">\n",
        "<font color=\"blue\">\n",
        "تابع if_rev\n",
        "<br>\n",
        "<font color=\"black\">\n",
        "این تابع نام (یا یک ویژگی) از واکنش را دریافت میکند و درخروجی مشخص که واکنش برگشت پذیر هست یا نه"
      ]
    },
    {
      "cell_type": "code",
      "execution_count": 135,
      "metadata": {
        "colab": {
          "base_uri": "https://localhost:8080/"
        },
        "id": "BNwmn8yR1guz",
        "outputId": "bdbc9c30-c8f7-40f3-ccfa-3f624df714de"
      },
      "outputs": [
        {
          "data": {
            "text/plain": [
              "if_rev (generic function with 1 method)"
            ]
          },
          "execution_count": 135,
          "metadata": {},
          "output_type": "execute_result"
        }
      ],
      "source": [
        "function if_rev(reaction, model)\n",
        "  if model.lb[reaction] < 0\n",
        "    return 1\n",
        "  end\n",
        "  return 0\n",
        "end"
      ]
    },
    {
      "cell_type": "markdown",
      "metadata": {
        "id": "8f1Bf_5M-uYv"
      },
      "source": [
        "<font face=\"XB Zar\" size=4><div dir=rtl id=\"1\">\n",
        "<font color=\"blue\">\n",
        "تابع homogenize\n",
        "<br>\n",
        "<font color=\"black\">\n",
        "این تابع مدل را دریافت کرده و آن را همگن میکند یعنی ub را برای تمام واکنش ها +M و lb را برای واکنش های برگشت پذیر -M و برای واکنش های برگشت ناپذیر 0 قرار میدهد."
      ]
    },
    {
      "cell_type": "code",
      "execution_count": 136,
      "metadata": {
        "colab": {
          "base_uri": "https://localhost:8080/"
        },
        "id": "g4gFDWgb1iwt",
        "outputId": "25982896-1413-4314-ecaa-ad1edbc78b6d"
      },
      "outputs": [
        {
          "data": {
            "text/plain": [
              "homogenize (generic function with 1 method)"
            ]
          },
          "execution_count": 136,
          "metadata": {},
          "output_type": "execute_result"
        }
      ],
      "source": [
        "function homogenize(model,M)\n",
        "  for i in 1:model.n\n",
        "    model.ub[i] = M\n",
        "    if if_rev(i, model)== 1\n",
        "       model.lb[i] = -M\n",
        "    else\n",
        "        model.lb[i] = 0\n",
        "    end\n",
        "  end\n",
        "  return model\n",
        "end\n"
      ]
    },
    {
      "cell_type": "markdown",
      "metadata": {
        "id": "HNK7oYZB-zgU"
      },
      "source": [
        "<font face=\"XB Zar\" size=4><div dir=rtl id=\"1\">\n",
        "<font color=\"blue\">\n",
        "تابع irreversable_solve\n",
        "<br>\n",
        "<font color=\"black\">\n",
        "این تابع برای هر واکنش برگشت ناپذیر با حل یک CSP، مشخص میکند آن واکنش بلاک شده هست یا نه و در خروجی واکنش های برگشت ناپذیر بلاک شده را برمیگرداند"
      ]
    },
    {
      "cell_type": "code",
      "execution_count": 137,
      "metadata": {
        "colab": {
          "base_uri": "https://localhost:8080/"
        },
        "id": "I16ZDE4R1kpG",
        "outputId": "47cea0a1-14b8-4498-ed69-6766de7109ae"
      },
      "outputs": [
        {
          "data": {
            "text/plain": [
              "irreversable_solve (generic function with 1 method)"
            ]
          },
          "execution_count": 137,
          "metadata": {},
          "output_type": "execute_result"
        }
      ],
      "source": [
        "function irreversable_solve(myModel)\n",
        "x = Vector{Int64}()\n",
        "for i in 1:myModel.n\n",
        "  r = myModel.Reactions[i]\n",
        "  if if_rev(i, myModel) == 0\n",
        "    m = Model(GLPK.Optimizer)\n",
        "    @variable(m,v[1:myModel.n])\n",
        "    @objective(m,Max,v[i])\n",
        "    for j = 1:myModel.n\n",
        "        @constraint(m, myModel.lb[j]<= v[j] <=myModel.ub[j])\n",
        "    end\n",
        "    @constraint(m, constraint1, myModel.S * v .== zeros(myModel.m, 1))\n",
        "    # Solving the optimization problem\n",
        "    JuMP.optimize!(m)\n",
        "    if JuMP.value(v[i]) == 0\n",
        "      push!(x, i)\n",
        "    end\n",
        "   end\n",
        "end\n",
        "for xx in x\n",
        "  println(myModel.Reactions[xx])\n",
        "end\n",
        "return x\n",
        "end"
      ]
    },
    {
      "cell_type": "markdown",
      "metadata": {
        "id": "gf5vJU3D-2nL"
      },
      "source": [
        "<font face=\"XB Zar\" size=4><div dir=rtl id=\"1\">\n",
        "<font color=\"blue\">\n",
        "تابع reversable_solve\n",
        "<br>\n",
        "<font color=\"black\">\n",
        "این تابع برای هر واکنش برگشت پذیر با حل دو CSP، مشخص میکند آن واکنش بلاک شده هست یا نه و در خروجی واکنش های برگشت پذیر بلاک شده را برمیگرداند"
      ]
    },
    {
      "cell_type": "code",
      "execution_count": 143,
      "metadata": {
        "colab": {
          "base_uri": "https://localhost:8080/"
        },
        "id": "82Y9V6sp1pLI",
        "outputId": "4259d05d-41a4-4031-d4a3-88c268640104"
      },
      "outputs": [
        {
          "data": {
            "text/plain": [
              "reversable_solve (generic function with 1 method)"
            ]
          },
          "execution_count": 143,
          "metadata": {},
          "output_type": "execute_result"
        }
      ],
      "source": [
        "function reversable_solve(myModel)\n",
        "x = Vector{Int64}()\n",
        "for i in 1:myModel.n\n",
        "  r = myModel.Reactions[i]\n",
        "  if if_rev(i, myModel) == 1\n",
        "    m = Model(GLPK.Optimizer)\n",
        "\n",
        "    @variable(m,v[1:myModel.n])\n",
        "    @objective(m,Max,v[i])\n",
        "    for j = 1:myModel.n\n",
        "        @constraint(m, myModel.lb[j]<= v[j] <=myModel.ub[j])\n",
        "    end\n",
        "    @constraint(m, constraint1, myModel.S * v .== zeros(myModel.m, 1))\n",
        "    # Solving the optimization problem\n",
        "    JuMP.optimize!(m)\n",
        "    xnxx =JuMP.value(v[i])\n",
        "\n",
        "    m_s = Model(GLPK.Optimizer)\n",
        "\n",
        "    @variable(m_s,v_s[1:myModel.n])\n",
        "    @objective(m_s,Min,v_s[i])\n",
        "    for j = 1:myModel.n\n",
        "        @constraint(m_s, myModel.lb[j]<= v_s[j] <=myModel.ub[j])\n",
        "    end\n",
        "    @constraint(m_s, constraint1, myModel.S * v_s .== zeros(myModel.m, 1))\n",
        "    # Solving the optimization problem\n",
        "    JuMP.optimize!(m_s)\n",
        "    if JuMP.value(v_s[i]) == 0 && xnxx == 0\n",
        "      push!(x, i)\n",
        "    end\n",
        "\n",
        "   end\n",
        "end\n",
        "for xx in x\n",
        "  println(myModel.Reactions[xx])\n",
        "end\n",
        "return x\n",
        "end"
      ]
    },
    {
      "cell_type": "code",
      "execution_count": 139,
      "metadata": {
        "colab": {
          "base_uri": "https://localhost:8080/"
        },
        "collapsed": true,
        "id": "VdX68OUY1sax",
        "outputId": "e203b215-1d49-4a98-e56d-fe6e0f9aa08d"
      },
      "outputs": [
        {
          "name": "stdout",
          "output_type": "stream",
          "text": [
            ">e_coli_core.xml\n"
          ]
        },
        {
          "data": {
            "text/plain": [
              "1000000"
            ]
          },
          "execution_count": 139,
          "metadata": {},
          "output_type": "execute_result"
        }
      ],
      "source": [
        "name=\"e_coli_core.xml\"\n",
        "print(\">\",name,\"\\n\")\n",
        "myModel=loadmyModel(name)\n",
        "M=1000000"
      ]
    },
    {
      "cell_type": "code",
      "execution_count": 140,
      "metadata": {
        "id": "JWnj3kpT9XtW"
      },
      "outputs": [],
      "source": [
        "#if_rev(\"a reaction name\")"
      ]
    },
    {
      "cell_type": "code",
      "execution_count": 144,
      "metadata": {
        "colab": {
          "base_uri": "https://localhost:8080/"
        },
        "id": "6kNe6INg2Rcn",
        "outputId": "8d0a17f5-11ba-4bcf-90f1-18965b78dfc0"
      },
      "outputs": [
        {
          "name": "stdout",
          "output_type": "stream",
          "text": [
            "#irreversable blocked reactios:\n",
            "R_EX_fru_e\n",
            "R_EX_fum_e\n",
            "R_EX_gln__L_e\n",
            "R_EX_mal__L_e\n",
            "R_FRUpts2\n",
            "R_FUMt2_2\n",
            "R_GLNabc\n",
            "R_MALt2_2\n",
            "#reversable blocked reactios:\n"
          ]
        },
        {
          "data": {
            "text/plain": [
              "Int64[]"
            ]
          },
          "execution_count": 144,
          "metadata": {},
          "output_type": "execute_result"
        }
      ],
      "source": [
        "myModel=homogenize(myModel,M)\n",
        "print(\"#irreversable blocked reactios:\\n\")\n",
        "irreversable_solve(myModel)\n",
        "print(\"#reversable blocked reactios:\\n\")\n",
        "reversable_solve(myModel)"
      ]
    },
    {
      "cell_type": "markdown",
      "metadata": {
        "id": "2UMidUQB03vJ"
      },
      "source": [
        "<img src=\"https://raw.githubusercontent.com/JuliaLang/julia-logo-graphics/master/images/julia-logo-mask.png\" height=\"100\" />"
      ]
    },
    {
      "cell_type": "markdown",
      "metadata": {
        "id": "8RC1QNNqk6h1"
      },
      "source": [
        "# Need Help?\n",
        "\n",
        "* Learning: https://julialang.org/learning/\n",
        "* Documentation: https://docs.julialang.org/\n",
        "* Questions & Discussions:\n",
        "  * https://discourse.julialang.org/\n",
        "  * http://julialang.slack.com/\n",
        "  * https://stackoverflow.com/questions/tagged/julia\n",
        "\n",
        "If you ever ask for help or file an issue about Julia, you should generally provide the output of `versioninfo()`."
      ]
    }
  ],
  "metadata": {
    "colab": {
      "provenance": []
    },
    "gpuClass": "standard",
    "kernelspec": {
      "display_name": "Julia",
      "language": "julia",
      "name": "julia"
    },
    "language_info": {
      "file_extension": ".jl",
      "mimetype": "application/julia",
      "name": "julia"
    }
  },
  "nbformat": 4,
  "nbformat_minor": 0
}
