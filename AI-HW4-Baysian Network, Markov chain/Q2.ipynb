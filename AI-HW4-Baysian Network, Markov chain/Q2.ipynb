{
 "cells": [
  {
   "attachments": {},
   "cell_type": "markdown",
   "metadata": {},
   "source": [
    "# <center>پیدا کردن ربات</center>\n",
    "\n",
    "<div dir=\"rtl\" style=\"font-size:18px\">\n",
    "احتمالا کارتون WALL-E را بخاطر دارید. رباتی که توانست زمین را نجات دهد و باقیمانده نسل انسان‌ها را به زمین برگرداند. پس از بازگشت انسان‌ها به زمین و پس از محبوبیت زیاد WALL-E، او دوستان زیادی پیدا کرد. بهترین دوست او WALL-F یکی از بازیگوش‌ترین ربات‌هایی است که تاحالا دیده‌اید.\n",
    "<br>\n",
    "یکی از دفعاتی که WALL-F به بیرون رفته بود، راهی به درون یک هزار‌تو میابد. تصویر زیر از او در این هزارتو گرفته شده است.\n",
    "</div>\n",
    "<br>\n",
    "<br>\n",
    "<center>\n",
    "\n",
    "![WALL-F Ai-Generated](Assets/robot.jpg)\n",
    "\n",
    "</center>"
   ]
  },
  {
   "attachments": {},
   "cell_type": "markdown",
   "metadata": {},
   "source": [
    "<div dir=\"rtl\">\n",
    "در ادامه میخواهیم با روش‌های مختلفی پیدا کنیم که در حال حاضر ربات در چه خانه‌ای قرار دارد. در هرکدام از تست‌کیس‌هایی که لازم است بررسی کنید. خانه 0 و 0 خانه بالا و چپ هزارتو خواهد بود. در ادامه برای هر خانه مشخص خواهد شد که دیواری به هرکدام از جهات دارد یا خیر. \n",
    "به طور مثال عبارت\n",
    "''R L''\n",
    "به این معنی است که این خانه فقط به چپ و راست خود راه دارد. همچنین شماره‌گذاری خانه‌ها به صورت زیر است.\n",
    "در هر مرحله او به شما میگوید که در کدام خانه از جدول است. عددی که ربات به شما میگوید یک عدد تصادفی است که در یک ماتریس به شما داده میشود. عدد سطر \n",
    "$i$ \n",
    "و ستون \n",
    "$j$ \n",
    "احتمال این را نشان می‌دهد که ربات در خانه \n",
    "$i$ \n",
    "باشد اما خانه \n",
    "$j$ \n",
    "را شما گزارش دهد. این ربات در پایان هر مرحله با احتمال برابر به یکی از خانه‌های مجاور میرود. همینطور خانه شروع این ربات هم توزیعی یکنواخت دارد.\n",
    "</div>\n",
    "<br>\n",
    "<br>\n",
    "<center>\n",
    "\n",
    "![grid](Assets/grid.jpg)\n",
    "\n",
    "</center>"
   ]
  },
  {
   "attachments": {},
   "cell_type": "markdown",
   "metadata": {},
   "source": [
    "<div dir=\"rtl\">\n",
    "در ابتدا برای پیاده‌سازی ۲ الگوریتمی که در ادامه خواهید دید به آبجکتی از نوع Grid نیاز خواهید داشت. عملکرد این آبجکت را میتوانید از مسیر Assets/helpers.py ببینید. به طور مثال هزارتو زیر را در نظر بگیرید.\n",
    "</div>\n",
    "\n",
    "<center>\n",
    "\n",
    "![maze](Assets/grid2.jpg)\n",
    "\n",
    "</center>"
   ]
  },
  {
   "attachments": {},
   "cell_type": "markdown",
   "metadata": {},
   "source": [
    "<div dir=\"rtl\">\n",
    "grid متناظر با این هزارتو را میتوانید از طریق تابع get_sample_grid بگیرید و با توابع آن آشنا شوید. در صورت لزوم میتوانید هر تابع دلخواهی به این کلاس اضافه کنید. برای اطلاع از تعداد سطرهای grid میتوانید از grid.n و برای اطلاع از تعداد ستون‌ها میتوانید از grid.m استفاده کنید.\n",
    "</div>"
   ]
  },
  {
   "cell_type": "code",
   "execution_count": 1,
   "metadata": {},
   "outputs": [],
   "source": [
    "from Assets.helpers import get_sample_grid\n",
    "import numpy as np"
   ]
  },
  {
   "cell_type": "code",
   "execution_count": 2,
   "metadata": {},
   "outputs": [
    {
     "name": "stdout",
     "output_type": "stream",
     "text": [
      "2\n",
      "[3 3 1 2 3 3 2 2 3 1]\n",
      "[0 1 2 3]\n"
     ]
    }
   ],
   "source": [
    "grid = get_sample_grid()\n",
    "print(grid.n)\n",
    "print(np.random.choice([1,2,3],size=10))\n",
    "print(np.argsort([1,2,3,4]))\n"
   ]
  },
  {
   "attachments": {},
   "cell_type": "markdown",
   "metadata": {},
   "source": [
    "# Particle Filtering"
   ]
  },
  {
   "attachments": {},
   "cell_type": "markdown",
   "metadata": {},
   "source": [
    "<div dir=\"rtl\">\n",
    "در این قسمت باید آخرین خانه‌ای که این ربات در آن قرار دارد را با استفاده از الگوریتم Particle Filtering پیدا کنید. برای اینکار در ابتدا تعداد Particle هایی با تعدادی از اردر تعداد خانه‌های هزارتو بسازید. در پایان هر مرحله جمعیت را با توجه به وزن آنها نصف کنید و ذراتی جدید متناسب با تعداد ذرات درون هرخانه بسازید. در پایان خانه‌ای که بیشترین ذرات در آن قرار دارد را برگردانید.\n",
    "</div>"
   ]
  },
  {
   "cell_type": "code",
   "execution_count": 3,
   "metadata": {},
   "outputs": [],
   "source": [
    "# nesf nakonid!!!!!!!!!\n",
    "num = 10\n",
    "def move(particle,grid):\n",
    "    c = np.random.choice(grid.moves[int(particle[0])][int(particle[1])])\n",
    "    if c == 'U':\n",
    "        particle[0] -= 1\n",
    "    elif c == 'D':\n",
    "        particle[0] += 1\n",
    "    elif c == 'L':\n",
    "        particle[1] -= 1\n",
    "    elif c == 'R':\n",
    "        particle[1] += 1    \n",
    "\n",
    "def PF(grid, prob ,obs):\n",
    "    \"\"\"\n",
    "    input:\n",
    "\n",
    "    grid: object of type Grid\n",
    "    obs: array of ints, each one is an observation\n",
    "\n",
    "    output: \n",
    "    number of the last cell\n",
    "    \"\"\"\n",
    "    particles = np.empty((num*grid.n * grid.m, 2)).astype(int)\n",
    "    particles[:,0] = np.random.randint(0,grid.n, size=num* grid.n * grid.m)\n",
    "    particles[:,1] = np.random.randint(0,grid.m, size=num* grid.n * grid.m)\n",
    "\n",
    "    \n",
    "    for i in range(len(obs)):\n",
    "        for j in range(len(particles)):\n",
    "            move(particles[j],grid)\n",
    "        weigths = np.ones(num*(grid.n * grid.m))\n",
    "        for j in range(len(weigths)):\n",
    "            weigths[j] = prob[grid.m*particles[j][0] + particles[j][1],obs[i]] \n",
    "\n",
    "        # resample\n",
    "        # comment this part out if you want better performance, \n",
    "        \"\"\"\"       \n",
    "        args = np.argsort(weigths)[int((num*grid.n * grid.m)/2):]\n",
    "        weigths = weigths[args]\n",
    "        particles = particles[args]\n",
    "        particles = np.append(particles,particles,axis=0)\n",
    "        \"\"\"\n",
    "        \n",
    "        \n",
    "        weigths /= sum(weigths)\n",
    "        new_particles = np.empty(((grid.n * grid.m) * num, 2)).astype(int)\n",
    "        idx = [i for i in range(len(particles))] \n",
    "        idx = np.random.choice(idx, size=num*(grid.n * grid.m), p=weigths) \n",
    "        for j in range(len(idx)):\n",
    "            new_particles[j] = particles[idx[j]]\n",
    "        particles = new_particles \n",
    "        \n",
    "    number_of_particle = np.zeros(num*(grid.n * grid.m))\n",
    "    for j in particles:\n",
    "        number_of_particle[grid.m*j[0] + j[1]] += 1\n",
    "    a = number_of_particle.argmax()  \n",
    "    #print(a, number_of_particle[a])    \n",
    "    return a"
   ]
  },
  {
   "cell_type": "code",
   "execution_count": 4,
   "metadata": {},
   "outputs": [
    {
     "name": "stderr",
     "output_type": "stream",
     "text": [
      "C:\\Users\\moeen\\AppData\\Local\\Temp\\ipykernel_4828\\3699553482.py:24: RuntimeWarning: invalid value encountered in cast\n",
      "  particles = np.empty((num*grid.n * grid.m, 2)).astype(int)\n",
      "C:\\Users\\moeen\\AppData\\Local\\Temp\\ipykernel_4828\\3699553482.py:47: RuntimeWarning: invalid value encountered in cast\n",
      "  new_particles = np.empty(((grid.n * grid.m) * num, 2)).astype(int)\n"
     ]
    }
   ],
   "source": [
    "from Assets.helpers import *\n",
    "PF_checker(PF)\n"
   ]
  },
  {
   "attachments": {},
   "cell_type": "markdown",
   "metadata": {},
   "source": [
    "# HMM"
   ]
  },
  {
   "attachments": {},
   "cell_type": "markdown",
   "metadata": {},
   "source": [
    "<div dir=\"rtl\">\n",
    "در این قسمت غیر از اینکه باید بفهمیم WALL-F در کدام خانه قرار دارد. میخواهیم بدانیم که محتمل‌ترین مسیری که طی کرده‌ است چه مسیری است. برای اینکار الگوریتم viterbi را پیاده‌سازی کنید.\n",
    "</div>"
   ]
  },
  {
   "cell_type": "code",
   "execution_count": 29,
   "metadata": {},
   "outputs": [],
   "source": [
    "def tp(s,prev_s,grid):\n",
    "    if s== prev_s+1:\n",
    "        m=\"R\"\n",
    "    elif s== prev_s-1:\n",
    "       m=\"L\"\n",
    "    elif s== prev_s-grid.m:\n",
    "       m=\"U\"\n",
    "    elif s== prev_s + grid.m:\n",
    "       m=\"D\"\n",
    "    else:\n",
    "        return 0\n",
    "    if m in grid.moves[int(prev_s/grid.m)][prev_s % grid.m]:\n",
    "        return 1/len(grid.moves[int(prev_s/grid.m)][prev_s % grid.m])\n",
    "    return 0\n",
    "def viterbi(grid,prob ,obs):\n",
    "    \"\"\"\n",
    "    input:\n",
    "\n",
    "    grid: object of type Grid\n",
    "    obs: array of ints, each one is an observation\n",
    "\n",
    "    output: \n",
    "    array of cell numbers, same shape as obs\n",
    "    \"\"\"\n",
    "    s_probs = [[0.0 for _ in range(grid.n * grid.m)] for _ in range(len(obs))]\n",
    "    best_p_s = [[0 for _ in range(grid.n * grid.m)] for _ in range(len(obs))]\n",
    "    for t in range(len(obs)):\n",
    "        for s in range(grid.n * grid.m):\n",
    "            if t == 0:\n",
    "                s_probs[t][s] = 1/(grid.n * grid.m) * prob[s][obs[t]]\n",
    "            else:\n",
    "                best_p_s[t][s] = max(range((grid.n * grid.m)), key=lambda prev_s: s_probs[t-1][prev_s] * tp(s,prev_s,grid))\n",
    "                max_prob = s_probs[t-1][best_p_s[t][s]] * tp(s,best_p_s[t][s],grid)\n",
    "                s_probs[t][s] = max_prob * prob[s][obs[t]]\n",
    "\n",
    "    best_path_pointer = max(range((grid.n * grid.m)), key=lambda s: s_probs[-1][s])\n",
    "    MLE = [best_path_pointer]\n",
    "    for t in range(len(obs)-1, 0, -1):\n",
    "        MLE.insert(0, best_p_s[t][MLE[0]])\n",
    "    return MLE"
   ]
  },
  {
   "cell_type": "code",
   "execution_count": 30,
   "metadata": {},
   "outputs": [
    {
     "ename": "KeyboardInterrupt",
     "evalue": "",
     "output_type": "error",
     "traceback": [
      "\u001b[1;31m---------------------------------------------------------------------------\u001b[0m",
      "\u001b[1;31mKeyboardInterrupt\u001b[0m                         Traceback (most recent call last)",
      "Cell \u001b[1;32mIn[30], line 2\u001b[0m\n\u001b[0;32m      1\u001b[0m \u001b[38;5;28;01mfrom\u001b[39;00m \u001b[38;5;21;01mAssets\u001b[39;00m\u001b[38;5;21;01m.\u001b[39;00m\u001b[38;5;21;01mhelpers\u001b[39;00m \u001b[38;5;28;01mimport\u001b[39;00m viterbi_checker\n\u001b[1;32m----> 2\u001b[0m \u001b[43mviterbi_checker\u001b[49m\u001b[43m(\u001b[49m\u001b[43mviterbi\u001b[49m\u001b[43m)\u001b[49m\n",
      "File \u001b[1;32ma:\\dars\\AI\\F2023-HW4\\Practical\\Q2\\Q2\\Assets\\helpers.py:119\u001b[0m, in \u001b[0;36mviterbi_checker\u001b[1;34m(vit_func)\u001b[0m\n\u001b[0;32m    117\u001b[0m grid, prob, obs, _ \u001b[38;5;241m=\u001b[39m get_test_case(i)\n\u001b[0;32m    118\u001b[0m arr_GT \u001b[38;5;241m=\u001b[39m get_GT_HMM(i)\n\u001b[1;32m--> 119\u001b[0m arr_user \u001b[38;5;241m=\u001b[39m \u001b[43mvit_func\u001b[49m\u001b[43m(\u001b[49m\u001b[43mgrid\u001b[49m\u001b[43m,\u001b[49m\u001b[43m \u001b[49m\u001b[43mprob\u001b[49m\u001b[43m,\u001b[49m\u001b[43m \u001b[49m\u001b[43mobs\u001b[49m\u001b[43m)\u001b[49m\n\u001b[0;32m    120\u001b[0m \u001b[38;5;28;01mif\u001b[39;00m calculate_seq_prob(grid, prob, obs, arr_user) \u001b[38;5;241m<\u001b[39m calculate_seq_prob(grid, prob, obs, arr_GT):\n\u001b[0;32m    121\u001b[0m     \u001b[38;5;28mprint\u001b[39m(\u001b[38;5;124m'\u001b[39m\u001b[38;5;124mVITERBI FAILED!\u001b[39m\u001b[38;5;124m'\u001b[39m)\n",
      "Cell \u001b[1;32mIn[29], line 32\u001b[0m, in \u001b[0;36mviterbi\u001b[1;34m(grid, prob, obs)\u001b[0m\n\u001b[0;32m     30\u001b[0m     s_probs[t][s] \u001b[38;5;241m=\u001b[39m \u001b[38;5;241m1\u001b[39m\u001b[38;5;241m/\u001b[39m(grid\u001b[38;5;241m.\u001b[39mn \u001b[38;5;241m*\u001b[39m grid\u001b[38;5;241m.\u001b[39mm) \u001b[38;5;241m*\u001b[39m prob[s][obs[t]]\n\u001b[0;32m     31\u001b[0m \u001b[38;5;28;01melse\u001b[39;00m:\n\u001b[1;32m---> 32\u001b[0m     best_p_s[t][s] \u001b[38;5;241m=\u001b[39m \u001b[38;5;28;43mmax\u001b[39;49m\u001b[43m(\u001b[49m\u001b[38;5;28;43mrange\u001b[39;49m\u001b[43m(\u001b[49m\u001b[43m(\u001b[49m\u001b[43mgrid\u001b[49m\u001b[38;5;241;43m.\u001b[39;49m\u001b[43mn\u001b[49m\u001b[43m \u001b[49m\u001b[38;5;241;43m*\u001b[39;49m\u001b[43m \u001b[49m\u001b[43mgrid\u001b[49m\u001b[38;5;241;43m.\u001b[39;49m\u001b[43mm\u001b[49m\u001b[43m)\u001b[49m\u001b[43m)\u001b[49m\u001b[43m,\u001b[49m\u001b[43m \u001b[49m\u001b[43mkey\u001b[49m\u001b[38;5;241;43m=\u001b[39;49m\u001b[38;5;28;43;01mlambda\u001b[39;49;00m\u001b[43m \u001b[49m\u001b[43mprev_s\u001b[49m\u001b[43m:\u001b[49m\u001b[43m \u001b[49m\u001b[43ms_probs\u001b[49m\u001b[43m[\u001b[49m\u001b[43mt\u001b[49m\u001b[38;5;241;43m-\u001b[39;49m\u001b[38;5;241;43m1\u001b[39;49m\u001b[43m]\u001b[49m\u001b[43m[\u001b[49m\u001b[43mprev_s\u001b[49m\u001b[43m]\u001b[49m\u001b[43m \u001b[49m\u001b[38;5;241;43m*\u001b[39;49m\u001b[43m \u001b[49m\u001b[43mtp\u001b[49m\u001b[43m(\u001b[49m\u001b[43ms\u001b[49m\u001b[43m,\u001b[49m\u001b[43mprev_s\u001b[49m\u001b[43m,\u001b[49m\u001b[43mgrid\u001b[49m\u001b[43m)\u001b[49m\u001b[43m)\u001b[49m\n\u001b[0;32m     33\u001b[0m     max_prob \u001b[38;5;241m=\u001b[39m s_probs[t\u001b[38;5;241m-\u001b[39m\u001b[38;5;241m1\u001b[39m][best_p_s[t][s]] \u001b[38;5;241m*\u001b[39m tp(s,best_p_s[t][s],grid)\n\u001b[0;32m     34\u001b[0m     s_probs[t][s] \u001b[38;5;241m=\u001b[39m max_prob \u001b[38;5;241m*\u001b[39m prob[s][obs[t]]\n",
      "Cell \u001b[1;32mIn[29], line 32\u001b[0m, in \u001b[0;36mviterbi.<locals>.<lambda>\u001b[1;34m(prev_s)\u001b[0m\n\u001b[0;32m     30\u001b[0m     s_probs[t][s] \u001b[38;5;241m=\u001b[39m \u001b[38;5;241m1\u001b[39m\u001b[38;5;241m/\u001b[39m(grid\u001b[38;5;241m.\u001b[39mn \u001b[38;5;241m*\u001b[39m grid\u001b[38;5;241m.\u001b[39mm) \u001b[38;5;241m*\u001b[39m prob[s][obs[t]]\n\u001b[0;32m     31\u001b[0m \u001b[38;5;28;01melse\u001b[39;00m:\n\u001b[1;32m---> 32\u001b[0m     best_p_s[t][s] \u001b[38;5;241m=\u001b[39m \u001b[38;5;28mmax\u001b[39m(\u001b[38;5;28mrange\u001b[39m((grid\u001b[38;5;241m.\u001b[39mn \u001b[38;5;241m*\u001b[39m grid\u001b[38;5;241m.\u001b[39mm)), key\u001b[38;5;241m=\u001b[39m\u001b[38;5;28;01mlambda\u001b[39;00m prev_s: s_probs[t\u001b[38;5;241m-\u001b[39m\u001b[38;5;241m1\u001b[39m][prev_s] \u001b[38;5;241m*\u001b[39m \u001b[43mtp\u001b[49m\u001b[43m(\u001b[49m\u001b[43ms\u001b[49m\u001b[43m,\u001b[49m\u001b[43mprev_s\u001b[49m\u001b[43m,\u001b[49m\u001b[43mgrid\u001b[49m\u001b[43m)\u001b[49m)\n\u001b[0;32m     33\u001b[0m     max_prob \u001b[38;5;241m=\u001b[39m s_probs[t\u001b[38;5;241m-\u001b[39m\u001b[38;5;241m1\u001b[39m][best_p_s[t][s]] \u001b[38;5;241m*\u001b[39m tp(s,best_p_s[t][s],grid)\n\u001b[0;32m     34\u001b[0m     s_probs[t][s] \u001b[38;5;241m=\u001b[39m max_prob \u001b[38;5;241m*\u001b[39m prob[s][obs[t]]\n",
      "Cell \u001b[1;32mIn[29], line 1\u001b[0m, in \u001b[0;36mtp\u001b[1;34m(s, prev_s, grid)\u001b[0m\n\u001b[1;32m----> 1\u001b[0m \u001b[38;5;28;01mdef\u001b[39;00m \u001b[38;5;21mtp\u001b[39m(s,prev_s,grid):\n\u001b[0;32m      2\u001b[0m     \u001b[38;5;28;01mif\u001b[39;00m s\u001b[38;5;241m==\u001b[39m prev_s\u001b[38;5;241m+\u001b[39m\u001b[38;5;241m1\u001b[39m:\n\u001b[0;32m      3\u001b[0m         m\u001b[38;5;241m=\u001b[39m\u001b[38;5;124m\"\u001b[39m\u001b[38;5;124mR\u001b[39m\u001b[38;5;124m\"\u001b[39m\n",
      "\u001b[1;31mKeyboardInterrupt\u001b[0m: "
     ]
    }
   ],
   "source": [
    "from Assets.helpers import viterbi_checker\n",
    "viterbi_checker(viterbi)"
   ]
  }
 ],
 "metadata": {
  "kernelspec": {
   "display_name": "Python 3",
   "language": "python",
   "name": "python3"
  },
  "language_info": {
   "codemirror_mode": {
    "name": "ipython",
    "version": 3
   },
   "file_extension": ".py",
   "mimetype": "text/x-python",
   "name": "python",
   "nbconvert_exporter": "python",
   "pygments_lexer": "ipython3",
   "version": "3.11.2"
  },
  "orig_nbformat": 4
 },
 "nbformat": 4,
 "nbformat_minor": 2
}
